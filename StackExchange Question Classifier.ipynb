{
 "cells": [
  {
   "cell_type": "markdown",
   "metadata": {},
   "source": [
    "# HackerRank - Artificial Intelligence - Machine Learning and Statistics\n",
    "\n",
    "## StackExchange Question Classifier\n",
    "\n"
   ]
  },
  {
   "cell_type": "markdown",
   "metadata": {},
   "source": [
    "Stack Exchange is an information powerhouse, built on the power of crowdsourcing. It has 105 different topics and each topic has a library of questions which have been asked and answered by knowledgeable members of the StackExchange community. The topics are as diverse as travel, cooking, programming, engineering and photography.\n",
    "\n",
    "We have hand-picked ten different topics (such as Electronics, Mathematics, Photography etc.) from Stack Exchange, and we provide you with a set of questions from these topics.\n",
    "\n",
    "**Given a question and an excerpt, your task is to identify which among the 10 topics it belongs to.**\n",
    "\n",
    "\n",
    "**Input Format**\n",
    "\n",
    "The first line will be an integer N. N lines follow each line being a valid JSON object. The following fields of raw data are given in json\n",
    "\n",
    "* question (string) : The text in the title of the question.\n",
    "* excerpt (string) : Excerpt of the question body.\n",
    "* topic (string) : The topic under which the question was posted.\n",
    "The input for the program has all the fields but topic which you have to predict as the answer."
   ]
  },
  {
   "cell_type": "code",
   "execution_count": null,
   "metadata": {},
   "outputs": [],
   "source": [
    "import json\n",
    "from sklearn.feature_extraction.text import CountVectorizer\n",
    "from sklearn.metrics import accuracy_score\n",
    "import numpy as np\n",
    "from sklearn.svm import LinearSVC\n",
    "\n",
    "# Read training data\n",
    "text_data = []\n",
    "labels = []\n",
    "with open('training.json') as tr:\n",
    "    for n_line in range(int(tr.readline())):\n",
    "        text = json.loads(tr.readline())\n",
    "        text_data.append(text[\"question\"] + \"\\n\" + text[\"excerpt\"])\n",
    "        labels.append(text[\"topic\"])\n",
    "\n",
    "# Fit SVM using CountVectorizer\n",
    "vect = CountVectorizer(lowercase=True, \n",
    "                       stop_words=\"english\")\n",
    "\n",
    "vec_train = vect.fit_transform(text_data)\n",
    "svm = LinearSVC()  \n",
    "svm.fit(X = vec_train, y = labels)\n",
    "\n",
    "\n",
    "N = int(input())\n",
    "\n",
    "new_text = []\n",
    "for i in range(N):\n",
    "    text = json.loads(input())\n",
    "    new_text.append(text[\"question\"] + \"\\n\" + text[\"excerpt\"])\n",
    "    \n",
    "vec_test = vect.transform(new_text)\n",
    "predictions = svm.predict(vec_test)\n",
    "\n",
    "for pred in predictions:\n",
    "    print(pred)\n",
    "\n"
   ]
  }
 ],
 "metadata": {
  "kernelspec": {
   "display_name": "Python 3.8.11 ('base')",
   "language": "python",
   "name": "python3"
  },
  "language_info": {
   "codemirror_mode": {
    "name": "ipython",
    "version": 3
   },
   "file_extension": ".py",
   "mimetype": "text/x-python",
   "name": "python",
   "nbconvert_exporter": "python",
   "pygments_lexer": "ipython3",
   "version": "3.8.11"
  },
  "orig_nbformat": 4,
  "vscode": {
   "interpreter": {
    "hash": "263930470851f494f0ed2879c35b57985588df20f9e529b86e97dd5eb9ddc466"
   }
  }
 },
 "nbformat": 4,
 "nbformat_minor": 2
}
