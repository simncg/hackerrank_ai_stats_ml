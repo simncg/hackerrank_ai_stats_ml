{
 "cells": [
  {
   "cell_type": "markdown",
   "metadata": {},
   "source": [
    "# HackerRank - Artificial Intelligence - Machine Learning and Statistics \n",
    "## Correlation and Regression Lines - A Quick Recap 3\n",
    "\n",
    "Here are the test scores of 10 students in physics and history:\n",
    "\n",
    "```\n",
    "Physics Scores  15  12  8   8   7   7   7   6   5   3\n",
    "History Scores  10  25  17  11  13  17  20  13  9   15\n",
    "```\n",
    "\n",
    "When a student scores 10 in Physics, what is his probable score in History? Compute the answer correct to one decimal place."
   ]
  },
  {
   "cell_type": "code",
   "execution_count": null,
   "metadata": {},
   "outputs": [
    {
     "name": "stdout",
     "output_type": "stream",
     "text": [
      "15.5\n"
     ]
    }
   ],
   "source": [
    "physics = [15, 12, 8,  8,   7,   7,   7,  6,   5,   3]\n",
    "history = [10,  25,  17,  11,  13,  17,  20,  13,  9,   15]\n",
    "\n",
    "def mean(x):\n",
    "    return sum(x)/len(x) \n",
    "\n",
    "def var(x): \n",
    "    return sum([(i - mean(x))**2 for i in x])/len(x)\n",
    "\n",
    "def cov(x, y):\n",
    "    x1 = [i - mean(x) for i in x]\n",
    "    y1 = [i - mean(y) for i in y]\n",
    "    return sum([x1[i]*y1[i] for i in range(len(x1))])/len(x1) \n",
    "\n",
    "# Slope\n",
    "beta = cov(physics,history)/var(physics)\n",
    "\n",
    "# Intercept\n",
    "alpha = mean(history) - beta*mean(physics)\n",
    "\n",
    "# Answer\n",
    "r = alpha + beta*10\n",
    "\n",
    "print(format(r, \".1f\"))\n",
    "\n"
   ]
  }
 ],
 "metadata": {
  "kernelspec": {
   "display_name": "Python 3.8.11 ('base')",
   "language": "python",
   "name": "python3"
  },
  "language_info": {
   "codemirror_mode": {
    "name": "ipython",
    "version": 3
   },
   "file_extension": ".py",
   "mimetype": "text/x-python",
   "name": "python",
   "nbconvert_exporter": "python",
   "pygments_lexer": "ipython3",
   "version": "3.8.11"
  },
  "orig_nbformat": 4,
  "vscode": {
   "interpreter": {
    "hash": "263930470851f494f0ed2879c35b57985588df20f9e529b86e97dd5eb9ddc466"
   }
  }
 },
 "nbformat": 4,
 "nbformat_minor": 2
}
