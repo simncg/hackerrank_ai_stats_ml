{
 "cells": [
  {
   "cell_type": "markdown",
   "metadata": {},
   "source": [
    "# HackerRank - Artificial Intelligence - Machine Learning and Statistics \n",
    "\n",
    "## Polynomial Regression: Office Prices\n",
    "\n",
    "**The Problem**\n",
    "\n",
    "Charlie wants to purchase office-space. He does a detailed survey of the offices and corporate complexes in the area, and tries to quantify a lot of factors, such as the distance of the offices from residential and other commercial areas, schools and workplaces; the reputation of the construction companies and builders involved in constructing the apartments; the distance of the offices from highways, freeways and important roads; the facilities around the office space and so on.\n",
    "\n",
    "Each of these factors are quantified, normalized and mapped to values on a scale of 0 to 1. Charlie then makes a table. Each row in the table corresponds to Charlie's observations for a particular house. If Charlie has observed and noted F features, the row contains F values separated by a single space, followed by the office-space price in dollars/square-foot. If Charlie makes observations for H houses, his observation table has (F+1) columns and H rows, and a total of (F+1) * H entries.\n",
    "\n",
    "Charlie does several such surveys and provides you with the tabulated data. At the end of these tables are some rows which have just F columns (the price per square foot is missing). Your task is to predict these prices. F can be any integer number between 1 and 5, both inclusive.\n",
    "\n",
    "There is one important observation which Charlie has made.\n",
    "\n",
    "The prices per square foot, are (approximately) a polynomial function of the features in the observation table. This polynomial always has an order less than 4\n",
    "\n",
    "**Input Format**\n",
    "\n",
    "The first line contains two space separated integers, F and N. Over here, F is the number of observed features. N is the number of rows for which features as well as price per square-foot have been noted.\n",
    "This is followed by a table having F+1 columns and N rows with each row in a new line and each column separated by a single space. The last column is the price per square foot.\n",
    "\n",
    "The table is immediately followed by integer T followed by T rows containing F columns."
   ]
  },
  {
   "cell_type": "code",
   "execution_count": null,
   "metadata": {},
   "outputs": [],
   "source": [
    "# Import relevant packages\n",
    "from sklearn.preprocessing import PolynomialFeatures\n",
    "from sklearn.linear_model import LinearRegression\n",
    "\n",
    "n_feat, n_rows = map(int, input().split())\n",
    "\n",
    "# Read Training Data\n",
    "X = []\n",
    "Y = []\n",
    "for row in range(n_rows):\n",
    "    elements = [float(e) for e in input().split()]\n",
    "    X.append(elements[:n_feat])\n",
    "    Y.append(elements[n_feat])\n",
    "\n",
    "# New data \n",
    "n_rows_new = int(input())\n",
    "\n",
    "X_new = []\n",
    "for row in range(n_rows_new):\n",
    "    X_new.append([float(e) for e in input().split()])\n",
    "\n",
    "# Polynomial Features \n",
    "poly = PolynomialFeatures(degree=3, include_bias=False)\n",
    "\n",
    "X = poly.fit_transform(X)\n",
    "X_new = poly.transform(X_new)\n",
    "\n",
    "# Train linear regression model \n",
    "lr = LinearRegression()\n",
    "lr.fit(X,Y)\n",
    "\n",
    "# Make predictions\n",
    "predictions = lr.predict(X_new)\n",
    "\n",
    "for pred in predictions:\n",
    "    print(format(pred, \".2f\"))\n",
    "\n"
   ]
  }
 ],
 "metadata": {
  "kernelspec": {
   "display_name": "Python 3.8.11 ('base')",
   "language": "python",
   "name": "python3"
  },
  "language_info": {
   "name": "python",
   "version": "3.8.11"
  },
  "orig_nbformat": 4,
  "vscode": {
   "interpreter": {
    "hash": "263930470851f494f0ed2879c35b57985588df20f9e529b86e97dd5eb9ddc466"
   }
  }
 },
 "nbformat": 4,
 "nbformat_minor": 2
}
