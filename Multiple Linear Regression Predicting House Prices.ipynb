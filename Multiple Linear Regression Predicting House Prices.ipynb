{
 "cells": [
  {
   "cell_type": "markdown",
   "metadata": {},
   "source": [
    "# HackerRank - Artificial Intelligence - Statistics and Machine Learning\n",
    "\n",
    "## Multiple Linear Regression: Predicting House Prices \n",
    "\n",
    "**Objective**\n",
    "In this challenge, we practice using multiple linear regression to predict housing prices. \n",
    "\n",
    "**Task**\n",
    "Charlie wants to buy a house. He does a detailed survey of the area where he wants to live, in which he quantifies, normalizes, and maps the desirable features of houses to values on a scale of 0 to 1 so the data can be assembled into a table. If Charlie noted $F$ features, each row contains $F$ space-separated values followed by the house price in dollars per square foot (making for a total of $F+1$ columns). If Charlie makes observations about  $H$ houses, his observation table has $H$ rows. This means that the table has a total of $(F + 1) \\times H$ entries.\n",
    "\n",
    "Unfortunately, he was only able to get the price per square foot for certain houses and thus needs your help estimating the prices of the rest! Given the feature and pricing data for a set of houses, help Charlie estimate the price per square foot of the houses for which he has compiled feature data but no pricing.\n",
    "\n",
    "\n",
    "**Input Format**\n",
    "\n",
    "The first line contains 2 space-separated integers, $F$ (the number of observed features) and $N$ (the number of rows/houses for which Charlie has noted both the features and price per square foot). The  subsequent lines each contain  space-separated floating-point numbers describing a row in the table; the first  elements are the noted features for a house, and the very last element is its price per square foot.\n",
    "\n",
    "The next line (following the table) contains a single integer, $T$ , denoting the number of houses for for which Charlie noted features but does not know the price per square foot.\n",
    "\n",
    "The  subsequent $T$ lines each contain $F$ space-separated floating-point numbers describing the features of a house for which pricing is not known."
   ]
  },
  {
   "cell_type": "code",
   "execution_count": null,
   "metadata": {},
   "outputs": [],
   "source": [
    "from sklearn.linear_model import LinearRegression\n",
    "\n",
    "n_feat, n_rows = map(int, input().split())\n",
    "\n",
    "X = []\n",
    "Y = []\n",
    "for row in range(n_rows):\n",
    "    elements = [float(e) for e in input().split()]\n",
    "    X.append(elements[:n_feat])\n",
    "    Y.append(elements[n_feat])\n",
    "\n",
    "n_rows_new = int(input())\n",
    "\n",
    "X_new = []\n",
    "for row in range(n_rows_new):\n",
    "    X_new.append([float(e) for e in input().split()])\n",
    "\n",
    "lr = LinearRegression()\n",
    "lr.fit(X, Y)\n",
    "predictions = lr.predict(X_new)\n",
    "\n",
    "for pred in predictions:\n",
    "    print(format(pred, \".2f\"))"
   ]
  }
 ],
 "metadata": {
  "kernelspec": {
   "display_name": "Python 3.8.11 ('base')",
   "language": "python",
   "name": "python3"
  },
  "language_info": {
   "name": "python",
   "version": "3.8.11"
  },
  "orig_nbformat": 4,
  "vscode": {
   "interpreter": {
    "hash": "263930470851f494f0ed2879c35b57985588df20f9e529b86e97dd5eb9ddc466"
   }
  }
 },
 "nbformat": 4,
 "nbformat_minor": 2
}
